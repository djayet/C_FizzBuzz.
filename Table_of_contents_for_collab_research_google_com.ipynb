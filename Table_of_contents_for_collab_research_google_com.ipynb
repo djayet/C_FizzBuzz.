{
  "cells": [
    {
      "cell_type": "markdown",
      "source": [
        "                                            \n",
        "                        1. Instructions conditionnelles, boucles"
      ],
      "metadata": {
        "id": "Au2Adrhih9M0"
      }
    },
    {
      "cell_type": "markdown",
      "source": [
        "Exercice 1.1 : Vérification d'un nombre réel positif ou négatif"
      ],
      "metadata": {
        "id": "Iju9djnkgk1K"
      }
    },
    {
      "cell_type": "code",
      "source": [
        "nombre = float(input(\"Veuillez saisir un nombre réel : \"))\n",
        "\n",
        "if nombre > 0:\n",
        "    print(\"Le nombre est positif.\")\n",
        "elif nombre < 0:\n",
        "    print(\"Le nombre est négatif.\")\n",
        "else:\n",
        "    print(\"Le nombre est nul.\")"
      ],
      "metadata": {
        "colab": {
          "base_uri": "https://localhost:8080/"
        },
        "id": "K8DumxFsdtFt",
        "outputId": "8a39857a-1aeb-4e28-8595-5a12933cb28e"
      },
      "execution_count": 3,
      "outputs": [
        {
          "output_type": "stream",
          "name": "stdout",
          "text": [
            "Veuillez saisir un nombre réel : -154\n",
            "Le nombre est négatif.\n"
          ]
        }
      ]
    },
    {
      "cell_type": "markdown",
      "source": [
        "Exercice 1.2 : Jeu du nombre mystère"
      ],
      "metadata": {
        "id": "B-3o9LyUg-_r"
      }
    },
    {
      "cell_type": "code",
      "source": [
        "import random\n",
        "\n",
        "nombre_mystere = random.randint(1, 100)\n",
        "nombre_essais = 0\n",
        "\n",
        "print(\"J'ai choisi un nombre entre 1 et 100.\")\n",
        "\n",
        "while True:\n",
        "    essai = int(input(\"Devinez le nombre : \"))\n",
        "    nombre_essais += 1\n",
        "\n",
        "    if essai < nombre_mystere:\n",
        "        print(\"Plus grand !\")\n",
        "    elif essai > nombre_mystere:\n",
        "        print(\"Plus petit !\")\n",
        "    else:\n",
        "        print(f\"Bravo ! Vous avez trouvé le nombre en {nombre_essais} essais.\")\n",
        "        break"
      ],
      "metadata": {
        "colab": {
          "base_uri": "https://localhost:8080/"
        },
        "id": "ZsRrbdb6eMwK",
        "outputId": "f7fc0d07-99a2-4bd2-8070-6f77b660d7b1"
      },
      "execution_count": 4,
      "outputs": [
        {
          "output_type": "stream",
          "name": "stdout",
          "text": [
            "J'ai choisi un nombre entre 1 et 100.\n",
            "Devinez le nombre : 50\n",
            "Plus grand !\n",
            "Devinez le nombre : 40\n",
            "Plus grand !\n",
            "Devinez le nombre : 20\n",
            "Plus grand !\n",
            "Devinez le nombre : 10\n",
            "Plus grand !\n",
            "Devinez le nombre : 1\n",
            "Plus grand !\n",
            "Devinez le nombre : 80\n",
            "Plus petit !\n",
            "Devinez le nombre : 55\n",
            "Plus grand !\n",
            "Devinez le nombre : 70\n",
            "Plus petit !\n",
            "Devinez le nombre : 60\n",
            "Bravo ! Vous avez trouvé le nombre en 9 essais.\n"
          ]
        }
      ]
    },
    {
      "cell_type": "markdown",
      "source": [
        "Exercice 1.3 : Somme des entiers de 1 à N"
      ],
      "metadata": {
        "id": "q9ghD_XphHW7"
      }
    },
    {
      "cell_type": "code",
      "source": [
        "N = int(input(\"Veuillez saisir un entier N : \"))\n",
        "\n",
        "somme = 0\n",
        "for i in range(1, N + 1):\n",
        "    somme += i\n",
        "\n",
        "print(f\"La somme des entiers de 1 à {N} est : {somme}\")"
      ],
      "metadata": {
        "colab": {
          "base_uri": "https://localhost:8080/"
        },
        "id": "QHqZ4OTlezpk",
        "outputId": "86ac7139-95a3-4dfe-b159-d3644a4520f5"
      },
      "execution_count": 6,
      "outputs": [
        {
          "output_type": "stream",
          "name": "stdout",
          "text": [
            "Veuillez saisir un entier N : 10\n",
            "La somme des entiers de 1 à 10 est : 55\n"
          ]
        }
      ]
    },
    {
      "cell_type": "markdown",
      "source": [
        "Exercice 1.4 : Compte à rebours"
      ],
      "metadata": {
        "id": "PyR76prwhNYw"
      }
    },
    {
      "cell_type": "code",
      "source": [
        "N = int(input(\"Veuillez saisir un entier N : \"))\n",
        "\n",
        "for i in range(N, -1, -1):\n",
        "    print(i)\n",
        "\n",
        "N = int(input(\"Veuillez saisir un entier N : \"))\n",
        "\n",
        "while N >= 0:\n",
        "    print(N)\n",
        "    N -= 1\n",
        "\n"
      ],
      "metadata": {
        "colab": {
          "base_uri": "https://localhost:8080/"
        },
        "id": "1jX5c2Dye8Qs",
        "outputId": "fe122ff3-b202-4bce-ee05-8a187b9cb4bb"
      },
      "execution_count": 7,
      "outputs": [
        {
          "output_type": "stream",
          "name": "stdout",
          "text": [
            "Veuillez saisir un entier N : 14\n",
            "14\n",
            "13\n",
            "12\n",
            "11\n",
            "10\n",
            "9\n",
            "8\n",
            "7\n",
            "6\n",
            "5\n",
            "4\n",
            "3\n",
            "2\n",
            "1\n",
            "0\n",
            "Veuillez saisir un entier N : 12\n",
            "12\n",
            "11\n",
            "10\n",
            "9\n",
            "8\n",
            "7\n",
            "6\n",
            "5\n",
            "4\n",
            "3\n",
            "2\n",
            "1\n",
            "0\n"
          ]
        }
      ]
    },
    {
      "cell_type": "markdown",
      "source": [
        "Exercice 1.5 : Tables de multiplication"
      ],
      "metadata": {
        "id": "Nuxy-x-3hS-F"
      }
    },
    {
      "cell_type": "code",
      "source": [
        "nombre = int(input(\"Entrez un nombre entier : \"))\n",
        "\n",
        "print(f\"Table de multiplication de {nombre} :\")\n",
        "for i in range(1, 11):\n",
        "    resultat = nombre * i\n",
        "    print(f\"{nombre} x {i} = {resultat}\")"
      ],
      "metadata": {
        "colab": {
          "base_uri": "https://localhost:8080/"
        },
        "id": "xu1MDtOBfvtm",
        "outputId": "52fc4699-62c9-41c2-9339-29db2b0520ca"
      },
      "execution_count": 8,
      "outputs": [
        {
          "output_type": "stream",
          "name": "stdout",
          "text": [
            "Entrez un nombre entier : 4\n",
            "Table de multiplication de 4 :\n",
            "4 x 1 = 4\n",
            "4 x 2 = 8\n",
            "4 x 3 = 12\n",
            "4 x 4 = 16\n",
            "4 x 5 = 20\n",
            "4 x 6 = 24\n",
            "4 x 7 = 28\n",
            "4 x 8 = 32\n",
            "4 x 9 = 36\n",
            "4 x 10 = 40\n"
          ]
        }
      ]
    },
    {
      "cell_type": "markdown",
      "source": [
        "Exercice 1.6 : Affichage de formes géométriques"
      ],
      "metadata": {
        "id": "Ofj_5cxHhViD"
      }
    },
    {
      "cell_type": "code",
      "source": [
        "N = int(input(\"Entrez un nombre entier : \"))\n",
        "\n",
        "for i in range(1, N + 1):\n",
        "    print(\"*\" * i)"
      ],
      "metadata": {
        "colab": {
          "base_uri": "https://localhost:8080/"
        },
        "id": "-YAlh2jkhU9D",
        "outputId": "e2a537a5-7190-4d9a-e17f-74700061826f"
      },
      "execution_count": 10,
      "outputs": [
        {
          "output_type": "stream",
          "name": "stdout",
          "text": [
            "Entrez un nombre entier : 10\n",
            "*\n",
            "**\n",
            "***\n",
            "****\n",
            "*****\n",
            "******\n",
            "*******\n",
            "********\n",
            "*********\n",
            "**********\n"
          ]
        }
      ]
    },
    {
      "cell_type": "markdown",
      "source": [
        "                              2. Fonctions"
      ],
      "metadata": {
        "id": "J5CwuFcfiJPo"
      }
    },
    {
      "cell_type": "markdown",
      "source": [
        "Exercice 2.1 : Fonction de somme de chiffres"
      ],
      "metadata": {
        "id": "d6kyexMTiOQu"
      }
    },
    {
      "cell_type": "code",
      "source": [
        "def somme_chiffres(nombre):\n",
        "    \"\"\"Calcule la somme des chiffres d'un nombre entier.\n",
        "\n",
        "    Args:\n",
        "        nombre: Le nombre entier.\n",
        "\n",
        "    Returns:\n",
        "        La somme des chiffres du nombre.\n",
        "    \"\"\"\n",
        "    somme = 0\n",
        "    while nombre > 0:\n",
        "        chiffre = nombre % 10\n",
        "        somme += chiffre\n",
        "        nombre //= 10\n",
        "    return somme\n",
        ".nombre = int(input(\"Entrez un nombre entier : \"))\n",
        "\n",
        "resultat = somme_chiffres(nombre)\n",
        "print(f\"La somme des chiffres de {nombre} est : {resultat}\")"
      ],
      "metadata": {
        "colab": {
          "base_uri": "https://localhost:8080/"
        },
        "id": "1OLnd79biqZx",
        "outputId": "e532b5ed-d037-4c53-da40-1c76959efa72"
      },
      "execution_count": 39,
      "outputs": [
        {
          "output_type": "stream",
          "name": "stdout",
          "text": [
            "Entrez un nombre entier : 12345678\n",
            "La somme des chiffres de 12345678 est : 36\n"
          ]
        }
      ]
    },
    {
      "cell_type": "markdown",
      "source": [
        "Exercice 2.2 : Calcul de la moyenne d'une liste"
      ],
      "metadata": {
        "id": "gqEFRqPOkeQh"
      }
    },
    {
      "cell_type": "code",
      "source": [
        "def calculer_moyenne(nombres):\n",
        "    \"\"\"Calcule la moyenne d'une liste de nombres.\n",
        "\n",
        "    Args:\n",
        "        nombres: Une liste de nombres réels.\n",
        "\n",
        "    Returns:\n",
        "        La moyenne des nombres, ou 0 si la liste est vide.\n",
        "    \"\"\"\n",
        "    if not nombres:\n",
        "        return 0\n",
        "    return sum(nombres) / len(nombres)\n",
        "\n",
        "nombres_str = input(\"Entrez une série de nombres réels séparés par des espaces : \")\n",
        "nombres = [float(x) for x in nombres_str.split()]\n",
        "\n",
        "moyenne = calculer_moyenne(nombres)\n",
        "print(f\"La moyenne des nombres est : {moyenne}\")"
      ],
      "metadata": {
        "colab": {
          "base_uri": "https://localhost:8080/"
        },
        "id": "8mIJwUsalTcv",
        "outputId": "562d944a-3e3d-4c72-ae85-666e469bcbc8"
      },
      "execution_count": 27,
      "outputs": [
        {
          "output_type": "stream",
          "name": "stdout",
          "text": [
            "Entrez une série de nombres réels séparés par des espaces : 1 2 3 4 5 6 7 8 9 10\n",
            "La moyenne des nombres est : 5.5\n"
          ]
        }
      ]
    },
    {
      "cell_type": "markdown",
      "source": [
        "Exercice 2.3 : Fonction pour calculer le maximum"
      ],
      "metadata": {
        "id": "5bWqzGEJl1qW"
      }
    },
    {
      "cell_type": "code",
      "source": [
        "def maximum(a, b):\n",
        "  \"\"\"Retourne le plus grand de deux nombres.\n",
        "\n",
        "  Args:\n",
        "    a: Le premier nombre.\n",
        "    b: Le deuxième nombre.\n",
        "\n",
        "  Returns:\n",
        "    Le plus grand des deux nombres.\n",
        "  \"\"\"\n",
        "  if a > b:\n",
        "    return a\n",
        "  else:\n",
        "    return b\n",
        "\n",
        "nombre1 = float(input(\"Entrez le premier nombre : \"))\n",
        "nombre2 = float(input(\"Entrez le deuxième nombre : \"))\n",
        "\n",
        "plus_grand = maximum(nombre1, nombre2)\n",
        "print(f\"Le plus grand nombre entre {nombre1} et {nombre2} est : {plus_grand}\")"
      ],
      "metadata": {
        "colab": {
          "base_uri": "https://localhost:8080/"
        },
        "id": "mu38bFzimDLb",
        "outputId": "3d5cc047-0a59-4790-e2c3-f204322a1b2a"
      },
      "execution_count": 35,
      "outputs": [
        {
          "output_type": "stream",
          "name": "stdout",
          "text": [
            "Le plus grand nombre entre 15 et 17 est : 17\n",
            "Entrez le premier nombre : 12\n",
            "Entrez le deuxième nombre : 13\n",
            "Le plus grand nombre entre 12.0 et 13.0 est : 13.0\n"
          ]
        }
      ]
    },
    {
      "cell_type": "markdown",
      "source": [
        "Exercice 2.4 : Fonction de calcul de la factorielle"
      ],
      "metadata": {
        "id": "UO55PKcMmnPA"
      }
    },
    {
      "cell_type": "code",
      "source": [
        "def factorielle(N):\n",
        "  \"\"\"Calcule la factorielle d'un nombre entier N.\n",
        "\n",
        "  Args:\n",
        "    N: Le nombre entier pour lequel calculer la factorielle.\n",
        "\n",
        "  Returns:\n",
        "    La factorielle de N.\n",
        "  \"\"\"\n",
        "  if N == 0:\n",
        "    return 1\n",
        "  else:\n",
        "    resultat = 1\n",
        "    for i in range(1, N + 1):\n",
        "      resultat *= i\n",
        "    return resultat\n",
        "\n",
        "nombre = int(input(\"Entrez un nombre entier : \"))\n",
        "\n",
        "resultat_factorielle = factorielle(nombre)\n",
        "print(f\"La factorielle de {nombre} est : {resultat_factorielle}\")"
      ],
      "metadata": {
        "colab": {
          "base_uri": "https://localhost:8080/"
        },
        "id": "YBmLod-HnKFT",
        "outputId": "352ec6be-4e6d-4ec4-9ab3-4a429aae0141"
      },
      "execution_count": 34,
      "outputs": [
        {
          "output_type": "stream",
          "name": "stdout",
          "text": [
            "Entrez un nombre entier : 4\n",
            "La factorielle de 4 est : 24\n"
          ]
        }
      ]
    },
    {
      "cell_type": "markdown",
      "source": [
        "Exercice 2.5 : Vérification de palindrome"
      ],
      "metadata": {
        "id": "u6kiXE4spLDT"
      }
    },
    {
      "cell_type": "code",
      "source": [
        "def est_palindrome(chaine):\n",
        "    \"\"\"Vérifie si une chaîne de caractères est un palindrome.\n",
        "\n",
        "    Args:\n",
        "        chaine: La chaîne de caractères à vérifier.\n",
        "\n",
        "    Returns:\n",
        "        True si la chaîne est un palindrome, False sinon.\n",
        "    \"\"\"\n",
        "    chaine = chaine.lower()\n",
        "    return chaine == chaine[::-1]\n",
        "\n",
        "chaine = input(\"Entrez une chaîne de caractères : \")\n",
        "\n",
        "if est_palindrome(chaine):\n",
        "    print(f\"'{chaine}' est un palindrome.\")\n",
        "else:\n",
        "    print(f\"'{chaine}' n'est pas un palindrome.\")"
      ],
      "metadata": {
        "colab": {
          "base_uri": "https://localhost:8080/"
        },
        "id": "u4Vx2wtfpcAj",
        "outputId": "46866a84-dce3-4d75-d325-411cdd500ae7"
      },
      "execution_count": 42,
      "outputs": [
        {
          "output_type": "stream",
          "name": "stdout",
          "text": [
            "Entrez une chaîne de caractères : thamazighth\n",
            "'thamazighth' n'est pas un palindrome.\n"
          ]
        }
      ]
    },
    {
      "cell_type": "markdown",
      "source": [
        "Exercice 2.6 : Fonction pour implémenter un algorithme de recherche linéaire"
      ],
      "metadata": {
        "id": "xhvQS_FEpvIJ"
      }
    },
    {
      "cell_type": "code",
      "source": [
        "def recherche_lineaire(liste, nombre):\n",
        "    \"\"\"Recherche un nombre dans une liste en utilisant la recherche linéaire.\n",
        "\n",
        "    Args:\n",
        "        liste: La liste de nombres réels non triée.\n",
        "        nombre: Le nombre à rechercher.\n",
        "\n",
        "    Returns:\n",
        "        L'indice du nombre dans la liste s'il est trouvé, -1 sinon.\n",
        "    \"\"\"\n",
        "    for i in range(len(liste)):\n",
        "        if liste[i] == nombre:\n",
        "            return i\n",
        "    return -1\n",
        "\n",
        "nombres_str = input(\"Entrez une série de nombres réels séparés par des espaces : \")\n",
        "nombres = [float(x) for x in nombres_str.split()]\n",
        "nombre_a_rechercher = float(input(\"Entrez le nombre à rechercher : \"))\n",
        "\n",
        "indice = recherche_lineaire(nombres, nombre_a_rechercher)\n",
        "\n",
        "if indice != -1:\n",
        "    print(f\"Le nombre {nombre_a_rechercher} a été trouvé à l'indice {indice}.\")\n",
        "else:\n",
        "    print(f\"Le nombre {nombre_a_rechercher} n'a pas été trouvé dans la liste.\")"
      ],
      "metadata": {
        "colab": {
          "base_uri": "https://localhost:8080/"
        },
        "id": "Xc3IFTftqnYG",
        "outputId": "c91670a7-ff03-491e-bf46-54392d548f3f"
      },
      "execution_count": 44,
      "outputs": [
        {
          "output_type": "stream",
          "name": "stdout",
          "text": [
            "Entrez une série de nombres réels séparés par des espaces : 1 15 8 85 8 9 6 8 5 852 8522 8 552  58 87 4 96 2 5 88 996 5\n",
            "Entrez le nombre à rechercher : 5\n",
            "Le nombre 5.0 a été trouvé à l'indice 8.\n"
          ]
        }
      ]
    },
    {
      "cell_type": "markdown",
      "source": [
        "Exercice 2.7 : Fonction pour implémenter l'algorithme de tri par sélection"
      ],
      "metadata": {
        "id": "EYpuNcoSrnVf"
      }
    },
    {
      "cell_type": "code",
      "source": [
        "def tri_selection(liste):\n",
        "    \"\"\"Trie une liste d'entiers en utilisant le tri par sélection.\n",
        "\n",
        "    Args:\n",
        "        liste: La liste d'entiers à trier.\n",
        "\n",
        "    Returns:\n",
        "        La liste triée.\n",
        "    \"\"\"\n",
        "    n = len(liste)\n",
        "    for i in range(n):\n",
        "        min_index = i\n",
        "        for j in range(i + 1, n):\n",
        "            if liste[j] < liste[min_index]:\n",
        "                min_index = j\n",
        "        liste[i], liste[min_index] = liste[min_index], liste[i]\n",
        "\n",
        "    return liste\n",
        "\n",
        "nombres_str = input(\"Entrez une série d'entiers séparés par des espaces : \")\n",
        "nombres = [int(x) for x in nombres_str.split()]\n",
        "\n",
        "liste_triee = tri_selection(nombres)\n",
        "\n",
        "print(\"Liste triée :\", liste_triee)"
      ],
      "metadata": {
        "colab": {
          "base_uri": "https://localhost:8080/"
        },
        "id": "pKU61R2esUZ9",
        "outputId": "7de7703c-fd75-4bff-f494-473009a5eb5a"
      },
      "execution_count": 46,
      "outputs": [
        {
          "output_type": "stream",
          "name": "stdout",
          "text": [
            "Entrez une série d'entiers séparés par des espaces : 1 12 4 5 78 45 43 69 85 785 412 456  525 85\n",
            "Liste triée : [1, 4, 5, 12, 43, 45, 69, 78, 85, 85, 412, 456, 525, 785]\n"
          ]
        }
      ]
    },
    {
      "cell_type": "markdown",
      "source": [
        "                              3. programmation fonctionnelle"
      ],
      "metadata": {
        "id": "GvVNq9pFvjiF"
      }
    },
    {
      "cell_type": "markdown",
      "source": [
        "Exercice 3.1 : Utilisation de nonlocal dans une fonction imbriquée"
      ],
      "metadata": {
        "id": "sUPCHJC9vpa5"
      }
    },
    {
      "cell_type": "code",
      "source": [
        "def fonction_externe():\n",
        "    \"\"\"Fonction externe qui définit une variable et une fonction interne.\"\"\"\n",
        "    x = int(input(\"Entrez un nombre : \"))  # L'utilisateur saisit le nombre initial\n",
        "\n",
        "    def fonction_interne():\n",
        "        \"\"\"Fonction interne qui modifie la variable de la fonction externe.\"\"\"\n",
        "        nonlocal x\n",
        "        x *= 2\n",
        "\n",
        "    fonction_interne()\n",
        "    print(\"Valeur de x après l'appel de la fonction interne :\", x)\n",
        "\n",
        "fonction_externe()"
      ],
      "metadata": {
        "id": "ZRV2-AhSzzpI",
        "outputId": "0e014806-6fdb-421c-e4f8-228907093169",
        "colab": {
          "base_uri": "https://localhost:8080/"
        }
      },
      "execution_count": 49,
      "outputs": [
        {
          "output_type": "stream",
          "name": "stdout",
          "text": [
            "Entrez un nombre : 10\n",
            "Valeur de x après l'appel de la fonction interne : 20\n"
          ]
        }
      ]
    },
    {
      "cell_type": "markdown",
      "source": [
        "Exercice 3.2 : Utilisation d’une fonction imbriquée avec fermeture (Closure)"
      ],
      "metadata": {
        "id": "aEA14rOH2LMQ"
      }
    },
    {
      "cell_type": "code",
      "source": [
        "def operation(x):\n",
        "    \"\"\"Fonction principale qui prend un argument x.\"\"\"\n",
        "\n",
        "    def addition(y):\n",
        "        \"\"\"Fonction interne qui ajoute y à x après avoir incrémenté x.\"\"\"\n",
        "        nonlocal x\n",
        "        x += 1\n",
        "        return x + y\n",
        "\n",
        "    return addition  # Retourne la fonction interne\n",
        "\n",
        "# Saisie des nombres par l'utilisateur\n",
        "x = int(input(\"Entrez la valeur de x : \"))\n",
        "y = int(input(\"Entrez la valeur de y : \"))\n",
        "\n",
        "# Utilisation de la fermeture\n",
        "add_x = operation(x)  # Appel de operation avec la valeur de x saisie par l'utilisateur\n",
        "resultat = add_x(y)   # Appel de la fonction interne avec la valeur de y saisie par l'utilisateur\n",
        "print(f\"Le résultat de l'addition est : {resultat}\")"
      ],
      "metadata": {
        "id": "NcsJYr0Z3HWP",
        "outputId": "1e1ea0ee-cfbc-4dae-8e89-1366b9b38c4d",
        "colab": {
          "base_uri": "https://localhost:8080/"
        }
      },
      "execution_count": 52,
      "outputs": [
        {
          "output_type": "stream",
          "name": "stdout",
          "text": [
            "Entrez la valeur de x : 1\n",
            "Entrez la valeur de y : 2\n",
            "Le résultat de l'addition est : 4\n"
          ]
        }
      ]
    }
  ],
  "metadata": {
    "colab": {
      "name": "Table of contents for collab.research.google.com.ipynb",
      "provenance": []
    },
    "kernelspec": {
      "display_name": "Python 3 (ipykernel)",
      "language": "python",
      "name": "python3"
    },
    "language_info": {
      "codemirror_mode": {
        "name": "ipython",
        "version": 3
      },
      "file_extension": ".py",
      "mimetype": "text/x-python",
      "name": "python",
      "nbconvert_exporter": "python",
      "pygments_lexer": "ipython3",
      "version": "3.10.6"
    }
  },
  "nbformat": 4,
  "nbformat_minor": 0
}