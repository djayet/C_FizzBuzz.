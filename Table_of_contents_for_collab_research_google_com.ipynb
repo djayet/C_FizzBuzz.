{
  "cells": [
    {
      "cell_type": "markdown",
      "source": [
        "TP1"
      ],
      "metadata": {
        "id": "zKm0N6YUYi35"
      }
    },
    {
      "cell_type": "markdown",
      "source": [
        "                                            \n",
        "                        1. Instructions conditionnelles, boucles"
      ],
      "metadata": {
        "id": "Au2Adrhih9M0"
      }
    },
    {
      "cell_type": "markdown",
      "source": [
        "Exercice 1.1 : Vérification d'un nombre réel positif ou négatif"
      ],
      "metadata": {
        "id": "Iju9djnkgk1K"
      }
    },
    {
      "cell_type": "code",
      "source": [
        "nombre = float(input(\"Veuillez saisir un nombre réel : \"))\n",
        "\n",
        "if nombre > 0:\n",
        "    print(\"Le nombre est positif.\")\n",
        "elif nombre < 0:\n",
        "    print(\"Le nombre est négatif.\")\n",
        "else:\n",
        "    print(\"Le nombre est nul.\")"
      ],
      "metadata": {
        "colab": {
          "base_uri": "https://localhost:8080/"
        },
        "id": "K8DumxFsdtFt",
        "outputId": "8a39857a-1aeb-4e28-8595-5a12933cb28e"
      },
      "execution_count": 3,
      "outputs": [
        {
          "output_type": "stream",
          "name": "stdout",
          "text": [
            "Veuillez saisir un nombre réel : -154\n",
            "Le nombre est négatif.\n"
          ]
        }
      ]
    },
    {
      "cell_type": "markdown",
      "source": [
        "Exercice 1.2 : Jeu du nombre mystère"
      ],
      "metadata": {
        "id": "B-3o9LyUg-_r"
      }
    },
    {
      "cell_type": "code",
      "source": [
        "import random\n",
        "\n",
        "nombre_mystere = random.randint(1, 100)\n",
        "nombre_essais = 0\n",
        "\n",
        "print(\"J'ai choisi un nombre entre 1 et 100.\")\n",
        "\n",
        "while True:\n",
        "    essai = int(input(\"Devinez le nombre : \"))\n",
        "    nombre_essais += 1\n",
        "\n",
        "    if essai < nombre_mystere:\n",
        "        print(\"Plus grand !\")\n",
        "    elif essai > nombre_mystere:\n",
        "        print(\"Plus petit !\")\n",
        "    else:\n",
        "        print(f\"Bravo ! Vous avez trouvé le nombre en {nombre_essais} essais.\")\n",
        "        break"
      ],
      "metadata": {
        "colab": {
          "base_uri": "https://localhost:8080/"
        },
        "id": "ZsRrbdb6eMwK",
        "outputId": "f7fc0d07-99a2-4bd2-8070-6f77b660d7b1"
      },
      "execution_count": 4,
      "outputs": [
        {
          "output_type": "stream",
          "name": "stdout",
          "text": [
            "J'ai choisi un nombre entre 1 et 100.\n",
            "Devinez le nombre : 50\n",
            "Plus grand !\n",
            "Devinez le nombre : 40\n",
            "Plus grand !\n",
            "Devinez le nombre : 20\n",
            "Plus grand !\n",
            "Devinez le nombre : 10\n",
            "Plus grand !\n",
            "Devinez le nombre : 1\n",
            "Plus grand !\n",
            "Devinez le nombre : 80\n",
            "Plus petit !\n",
            "Devinez le nombre : 55\n",
            "Plus grand !\n",
            "Devinez le nombre : 70\n",
            "Plus petit !\n",
            "Devinez le nombre : 60\n",
            "Bravo ! Vous avez trouvé le nombre en 9 essais.\n"
          ]
        }
      ]
    },
    {
      "cell_type": "markdown",
      "source": [
        "Exercice 1.3 : Somme des entiers de 1 à N"
      ],
      "metadata": {
        "id": "q9ghD_XphHW7"
      }
    },
    {
      "cell_type": "code",
      "source": [
        "N = int(input(\"Veuillez saisir un entier N : \"))\n",
        "\n",
        "somme = 0\n",
        "for i in range(1, N + 1):\n",
        "    somme += i\n",
        "\n",
        "print(f\"La somme des entiers de 1 à {N} est : {somme}\")"
      ],
      "metadata": {
        "colab": {
          "base_uri": "https://localhost:8080/"
        },
        "id": "QHqZ4OTlezpk",
        "outputId": "86ac7139-95a3-4dfe-b159-d3644a4520f5"
      },
      "execution_count": 6,
      "outputs": [
        {
          "output_type": "stream",
          "name": "stdout",
          "text": [
            "Veuillez saisir un entier N : 10\n",
            "La somme des entiers de 1 à 10 est : 55\n"
          ]
        }
      ]
    },
    {
      "cell_type": "markdown",
      "source": [
        "Exercice 1.4 : Compte à rebours"
      ],
      "metadata": {
        "id": "PyR76prwhNYw"
      }
    },
    {
      "cell_type": "code",
      "source": [
        "N = int(input(\"Veuillez saisir un entier N : \"))\n",
        "\n",
        "for i in range(N, -1, -1):\n",
        "    print(i)\n",
        "\n",
        "N = int(input(\"Veuillez saisir un entier N : \"))\n",
        "\n",
        "while N >= 0:\n",
        "    print(N)\n",
        "    N -= 1\n",
        "\n"
      ],
      "metadata": {
        "colab": {
          "base_uri": "https://localhost:8080/"
        },
        "id": "1jX5c2Dye8Qs",
        "outputId": "fe122ff3-b202-4bce-ee05-8a187b9cb4bb"
      },
      "execution_count": 7,
      "outputs": [
        {
          "output_type": "stream",
          "name": "stdout",
          "text": [
            "Veuillez saisir un entier N : 14\n",
            "14\n",
            "13\n",
            "12\n",
            "11\n",
            "10\n",
            "9\n",
            "8\n",
            "7\n",
            "6\n",
            "5\n",
            "4\n",
            "3\n",
            "2\n",
            "1\n",
            "0\n",
            "Veuillez saisir un entier N : 12\n",
            "12\n",
            "11\n",
            "10\n",
            "9\n",
            "8\n",
            "7\n",
            "6\n",
            "5\n",
            "4\n",
            "3\n",
            "2\n",
            "1\n",
            "0\n"
          ]
        }
      ]
    },
    {
      "cell_type": "markdown",
      "source": [
        "Exercice 1.5 : Tables de multiplication"
      ],
      "metadata": {
        "id": "Nuxy-x-3hS-F"
      }
    },
    {
      "cell_type": "code",
      "source": [
        "nombre = int(input(\"Entrez un nombre entier : \"))\n",
        "\n",
        "print(f\"Table de multiplication de {nombre} :\")\n",
        "for i in range(1, 11):\n",
        "    resultat = nombre * i\n",
        "    print(f\"{nombre} x {i} = {resultat}\")"
      ],
      "metadata": {
        "colab": {
          "base_uri": "https://localhost:8080/"
        },
        "id": "xu1MDtOBfvtm",
        "outputId": "52fc4699-62c9-41c2-9339-29db2b0520ca"
      },
      "execution_count": 8,
      "outputs": [
        {
          "output_type": "stream",
          "name": "stdout",
          "text": [
            "Entrez un nombre entier : 4\n",
            "Table de multiplication de 4 :\n",
            "4 x 1 = 4\n",
            "4 x 2 = 8\n",
            "4 x 3 = 12\n",
            "4 x 4 = 16\n",
            "4 x 5 = 20\n",
            "4 x 6 = 24\n",
            "4 x 7 = 28\n",
            "4 x 8 = 32\n",
            "4 x 9 = 36\n",
            "4 x 10 = 40\n"
          ]
        }
      ]
    },
    {
      "cell_type": "markdown",
      "source": [
        "Exercice 1.6 : Affichage de formes géométriques"
      ],
      "metadata": {
        "id": "Ofj_5cxHhViD"
      }
    },
    {
      "cell_type": "code",
      "source": [
        "N = int(input(\"Entrez un nombre entier : \"))\n",
        "\n",
        "for i in range(1, N + 1):\n",
        "    print(\"*\" * i)"
      ],
      "metadata": {
        "colab": {
          "base_uri": "https://localhost:8080/"
        },
        "id": "-YAlh2jkhU9D",
        "outputId": "e2a537a5-7190-4d9a-e17f-74700061826f"
      },
      "execution_count": 10,
      "outputs": [
        {
          "output_type": "stream",
          "name": "stdout",
          "text": [
            "Entrez un nombre entier : 10\n",
            "*\n",
            "**\n",
            "***\n",
            "****\n",
            "*****\n",
            "******\n",
            "*******\n",
            "********\n",
            "*********\n",
            "**********\n"
          ]
        }
      ]
    },
    {
      "cell_type": "markdown",
      "source": [
        "                              2. Fonctions"
      ],
      "metadata": {
        "id": "J5CwuFcfiJPo"
      }
    },
    {
      "cell_type": "markdown",
      "source": [
        "Exercice 2.1 : Fonction de somme de chiffres"
      ],
      "metadata": {
        "id": "d6kyexMTiOQu"
      }
    },
    {
      "cell_type": "code",
      "source": [
        "def somme_chiffres(nombre):\n",
        "    \"\"\"Calcule la somme des chiffres d'un nombre entier.\n",
        "\n",
        "    Args:\n",
        "        nombre: Le nombre entier.\n",
        "\n",
        "    Returns:\n",
        "        La somme des chiffres du nombre.\n",
        "    \"\"\"\n",
        "    somme = 0\n",
        "    while nombre > 0:\n",
        "        chiffre = nombre % 10\n",
        "        somme += chiffre\n",
        "        nombre //= 10\n",
        "    return somme\n",
        ".nombre = int(input(\"Entrez un nombre entier : \"))\n",
        "\n",
        "resultat = somme_chiffres(nombre)\n",
        "print(f\"La somme des chiffres de {nombre} est : {resultat}\")"
      ],
      "metadata": {
        "colab": {
          "base_uri": "https://localhost:8080/"
        },
        "id": "1OLnd79biqZx",
        "outputId": "e532b5ed-d037-4c53-da40-1c76959efa72"
      },
      "execution_count": 39,
      "outputs": [
        {
          "output_type": "stream",
          "name": "stdout",
          "text": [
            "Entrez un nombre entier : 12345678\n",
            "La somme des chiffres de 12345678 est : 36\n"
          ]
        }
      ]
    },
    {
      "cell_type": "markdown",
      "source": [
        "Exercice 2.2 : Calcul de la moyenne d'une liste"
      ],
      "metadata": {
        "id": "gqEFRqPOkeQh"
      }
    },
    {
      "cell_type": "code",
      "source": [
        "def calculer_moyenne(nombres):\n",
        "    \"\"\"Calcule la moyenne d'une liste de nombres.\n",
        "\n",
        "    Args:\n",
        "        nombres: Une liste de nombres réels.\n",
        "\n",
        "    Returns:\n",
        "        La moyenne des nombres, ou 0 si la liste est vide.\n",
        "    \"\"\"\n",
        "    if not nombres:\n",
        "        return 0\n",
        "    return sum(nombres) / len(nombres)\n",
        "\n",
        "nombres_str = input(\"Entrez une série de nombres réels séparés par des espaces : \")\n",
        "nombres = [float(x) for x in nombres_str.split()]\n",
        "\n",
        "moyenne = calculer_moyenne(nombres)\n",
        "print(f\"La moyenne des nombres est : {moyenne}\")"
      ],
      "metadata": {
        "colab": {
          "base_uri": "https://localhost:8080/"
        },
        "id": "8mIJwUsalTcv",
        "outputId": "562d944a-3e3d-4c72-ae85-666e469bcbc8"
      },
      "execution_count": 27,
      "outputs": [
        {
          "output_type": "stream",
          "name": "stdout",
          "text": [
            "Entrez une série de nombres réels séparés par des espaces : 1 2 3 4 5 6 7 8 9 10\n",
            "La moyenne des nombres est : 5.5\n"
          ]
        }
      ]
    },
    {
      "cell_type": "markdown",
      "source": [
        "Exercice 2.3 : Fonction pour calculer le maximum"
      ],
      "metadata": {
        "id": "5bWqzGEJl1qW"
      }
    },
    {
      "cell_type": "code",
      "source": [
        "def maximum(a, b):\n",
        "  \"\"\"Retourne le plus grand de deux nombres.\n",
        "\n",
        "  Args:\n",
        "    a: Le premier nombre.\n",
        "    b: Le deuxième nombre.\n",
        "\n",
        "  Returns:\n",
        "    Le plus grand des deux nombres.\n",
        "  \"\"\"\n",
        "  if a > b:\n",
        "    return a\n",
        "  else:\n",
        "    return b\n",
        "\n",
        "nombre1 = float(input(\"Entrez le premier nombre : \"))\n",
        "nombre2 = float(input(\"Entrez le deuxième nombre : \"))\n",
        "\n",
        "plus_grand = maximum(nombre1, nombre2)\n",
        "print(f\"Le plus grand nombre entre {nombre1} et {nombre2} est : {plus_grand}\")"
      ],
      "metadata": {
        "colab": {
          "base_uri": "https://localhost:8080/"
        },
        "id": "mu38bFzimDLb",
        "outputId": "3d5cc047-0a59-4790-e2c3-f204322a1b2a"
      },
      "execution_count": 35,
      "outputs": [
        {
          "output_type": "stream",
          "name": "stdout",
          "text": [
            "Le plus grand nombre entre 15 et 17 est : 17\n",
            "Entrez le premier nombre : 12\n",
            "Entrez le deuxième nombre : 13\n",
            "Le plus grand nombre entre 12.0 et 13.0 est : 13.0\n"
          ]
        }
      ]
    },
    {
      "cell_type": "markdown",
      "source": [
        "Exercice 2.4 : Fonction de calcul de la factorielle"
      ],
      "metadata": {
        "id": "UO55PKcMmnPA"
      }
    },
    {
      "cell_type": "code",
      "source": [
        "def factorielle(N):\n",
        "  \"\"\"Calcule la factorielle d'un nombre entier N.\n",
        "\n",
        "  Args:\n",
        "    N: Le nombre entier pour lequel calculer la factorielle.\n",
        "\n",
        "  Returns:\n",
        "    La factorielle de N.\n",
        "  \"\"\"\n",
        "  if N == 0:\n",
        "    return 1\n",
        "  else:\n",
        "    resultat = 1\n",
        "    for i in range(1, N + 1):\n",
        "      resultat *= i\n",
        "    return resultat\n",
        "\n",
        "nombre = int(input(\"Entrez un nombre entier : \"))\n",
        "\n",
        "resultat_factorielle = factorielle(nombre)\n",
        "print(f\"La factorielle de {nombre} est : {resultat_factorielle}\")"
      ],
      "metadata": {
        "colab": {
          "base_uri": "https://localhost:8080/"
        },
        "id": "YBmLod-HnKFT",
        "outputId": "352ec6be-4e6d-4ec4-9ab3-4a429aae0141"
      },
      "execution_count": 34,
      "outputs": [
        {
          "output_type": "stream",
          "name": "stdout",
          "text": [
            "Entrez un nombre entier : 4\n",
            "La factorielle de 4 est : 24\n"
          ]
        }
      ]
    },
    {
      "cell_type": "markdown",
      "source": [
        "Exercice 2.5 : Vérification de palindrome"
      ],
      "metadata": {
        "id": "u6kiXE4spLDT"
      }
    },
    {
      "cell_type": "code",
      "source": [
        "def est_palindrome(chaine):\n",
        "    \"\"\"Vérifie si une chaîne de caractères est un palindrome.\n",
        "\n",
        "    Args:\n",
        "        chaine: La chaîne de caractères à vérifier.\n",
        "\n",
        "    Returns:\n",
        "        True si la chaîne est un palindrome, False sinon.\n",
        "    \"\"\"\n",
        "    chaine = chaine.lower()\n",
        "    return chaine == chaine[::-1]\n",
        "\n",
        "chaine = input(\"Entrez une chaîne de caractères : \")\n",
        "\n",
        "if est_palindrome(chaine):\n",
        "    print(f\"'{chaine}' est un palindrome.\")\n",
        "else:\n",
        "    print(f\"'{chaine}' n'est pas un palindrome.\")"
      ],
      "metadata": {
        "colab": {
          "base_uri": "https://localhost:8080/"
        },
        "id": "u4Vx2wtfpcAj",
        "outputId": "46866a84-dce3-4d75-d325-411cdd500ae7"
      },
      "execution_count": 42,
      "outputs": [
        {
          "output_type": "stream",
          "name": "stdout",
          "text": [
            "Entrez une chaîne de caractères : thamazighth\n",
            "'thamazighth' n'est pas un palindrome.\n"
          ]
        }
      ]
    },
    {
      "cell_type": "markdown",
      "source": [
        "Exercice 2.6 : Fonction pour implémenter un algorithme de recherche linéaire"
      ],
      "metadata": {
        "id": "xhvQS_FEpvIJ"
      }
    },
    {
      "cell_type": "code",
      "source": [
        "def recherche_lineaire(liste, nombre):\n",
        "    \"\"\"Recherche un nombre dans une liste en utilisant la recherche linéaire.\n",
        "\n",
        "    Args:\n",
        "        liste: La liste de nombres réels non triée.\n",
        "        nombre: Le nombre à rechercher.\n",
        "\n",
        "    Returns:\n",
        "        L'indice du nombre dans la liste s'il est trouvé, -1 sinon.\n",
        "    \"\"\"\n",
        "    for i in range(len(liste)):\n",
        "        if liste[i] == nombre:\n",
        "            return i\n",
        "    return -1\n",
        "\n",
        "nombres_str = input(\"Entrez une série de nombres réels séparés par des espaces : \")\n",
        "nombres = [float(x) for x in nombres_str.split()]\n",
        "nombre_a_rechercher = float(input(\"Entrez le nombre à rechercher : \"))\n",
        "\n",
        "indice = recherche_lineaire(nombres, nombre_a_rechercher)\n",
        "\n",
        "if indice != -1:\n",
        "    print(f\"Le nombre {nombre_a_rechercher} a été trouvé à l'indice {indice}.\")\n",
        "else:\n",
        "    print(f\"Le nombre {nombre_a_rechercher} n'a pas été trouvé dans la liste.\")"
      ],
      "metadata": {
        "colab": {
          "base_uri": "https://localhost:8080/"
        },
        "id": "Xc3IFTftqnYG",
        "outputId": "c91670a7-ff03-491e-bf46-54392d548f3f"
      },
      "execution_count": 44,
      "outputs": [
        {
          "output_type": "stream",
          "name": "stdout",
          "text": [
            "Entrez une série de nombres réels séparés par des espaces : 1 15 8 85 8 9 6 8 5 852 8522 8 552  58 87 4 96 2 5 88 996 5\n",
            "Entrez le nombre à rechercher : 5\n",
            "Le nombre 5.0 a été trouvé à l'indice 8.\n"
          ]
        }
      ]
    },
    {
      "cell_type": "markdown",
      "source": [
        "Exercice 2.7 : Fonction pour implémenter l'algorithme de tri par sélection"
      ],
      "metadata": {
        "id": "EYpuNcoSrnVf"
      }
    },
    {
      "cell_type": "code",
      "source": [
        "def tri_selection(liste):\n",
        "    \"\"\"Trie une liste d'entiers en utilisant le tri par sélection.\n",
        "\n",
        "    Args:\n",
        "        liste: La liste d'entiers à trier.\n",
        "\n",
        "    Returns:\n",
        "        La liste triée.\n",
        "    \"\"\"\n",
        "    n = len(liste)\n",
        "    for i in range(n):\n",
        "        min_index = i\n",
        "        for j in range(i + 1, n):\n",
        "            if liste[j] < liste[min_index]:\n",
        "                min_index = j\n",
        "        liste[i], liste[min_index] = liste[min_index], liste[i]\n",
        "\n",
        "    return liste\n",
        "\n",
        "nombres_str = input(\"Entrez une série d'entiers séparés par des espaces : \")\n",
        "nombres = [int(x) for x in nombres_str.split()]\n",
        "\n",
        "liste_triee = tri_selection(nombres)\n",
        "\n",
        "print(\"Liste triée :\", liste_triee)"
      ],
      "metadata": {
        "colab": {
          "base_uri": "https://localhost:8080/"
        },
        "id": "pKU61R2esUZ9",
        "outputId": "7de7703c-fd75-4bff-f494-473009a5eb5a"
      },
      "execution_count": 46,
      "outputs": [
        {
          "output_type": "stream",
          "name": "stdout",
          "text": [
            "Entrez une série d'entiers séparés par des espaces : 1 12 4 5 78 45 43 69 85 785 412 456  525 85\n",
            "Liste triée : [1, 4, 5, 12, 43, 45, 69, 78, 85, 85, 412, 456, 525, 785]\n"
          ]
        }
      ]
    },
    {
      "cell_type": "markdown",
      "source": [
        "                              3. programmation fonctionnelle"
      ],
      "metadata": {
        "id": "GvVNq9pFvjiF"
      }
    },
    {
      "cell_type": "markdown",
      "source": [
        "Exercice 3.1 : Utilisation de nonlocal dans une fonction imbriquée"
      ],
      "metadata": {
        "id": "sUPCHJC9vpa5"
      }
    },
    {
      "cell_type": "code",
      "source": [
        "def fonction_externe():\n",
        "    \"\"\"Fonction externe qui définit une variable et une fonction interne.\"\"\"\n",
        "    x = int(input(\"Entrez un nombre : \"))  # L'utilisateur saisit le nombre initial\n",
        "\n",
        "    def fonction_interne():\n",
        "        \"\"\"Fonction interne qui modifie la variable de la fonction externe.\"\"\"\n",
        "        nonlocal x\n",
        "        x *= 2\n",
        "\n",
        "    fonction_interne()\n",
        "    print(\"Valeur de x après l'appel de la fonction interne :\", x)\n",
        "\n",
        "fonction_externe()"
      ],
      "metadata": {
        "colab": {
          "base_uri": "https://localhost:8080/"
        },
        "id": "ZRV2-AhSzzpI",
        "outputId": "0e014806-6fdb-421c-e4f8-228907093169"
      },
      "execution_count": 49,
      "outputs": [
        {
          "output_type": "stream",
          "name": "stdout",
          "text": [
            "Entrez un nombre : 10\n",
            "Valeur de x après l'appel de la fonction interne : 20\n"
          ]
        }
      ]
    },
    {
      "cell_type": "markdown",
      "source": [
        "Exercice 3.2 : Utilisation d’une fonction imbriquée avec fermeture (Closure)"
      ],
      "metadata": {
        "id": "aEA14rOH2LMQ"
      }
    },
    {
      "cell_type": "code",
      "source": [
        "def operation(x):\n",
        "    \"\"\"Fonction principale qui prend un argument x.\"\"\"\n",
        "\n",
        "    def addition(y):\n",
        "        \"\"\"Fonction interne qui ajoute y à x après avoir incrémenté x.\"\"\"\n",
        "        nonlocal x\n",
        "        x += 0\n",
        "        return x + y\n",
        "\n",
        "    return addition\n",
        "\n",
        "x = int(input(\"Entrez la valeur de x : \"))\n",
        "y = int(input(\"Entrez la valeur de y : \"))\n",
        "\n",
        "add_x = operation(x)\n",
        "resultat = add_x(y)\n",
        "print(f\"Le résultat de l'addition est : {resultat}\")"
      ],
      "metadata": {
        "colab": {
          "base_uri": "https://localhost:8080/"
        },
        "id": "NcsJYr0Z3HWP",
        "outputId": "52e280ed-f939-4937-cd4f-841d2e18ec41"
      },
      "execution_count": 4,
      "outputs": [
        {
          "output_type": "stream",
          "name": "stdout",
          "text": [
            "Entrez la valeur de x : 1 \n",
            "Entrez la valeur de y : 2\n",
            "Le résultat de l'addition est : 3\n"
          ]
        }
      ]
    },
    {
      "cell_type": "markdown",
      "source": [
        "Exercice 3.3 : Fonction récursive de calcul de la somme d’une liste"
      ],
      "metadata": {
        "id": "mTXOdH9HMGho"
      }
    },
    {
      "cell_type": "code",
      "source": [
        "def somme_recursive(liste):\n",
        "    \"\"\"Calcule la somme d'une liste de nombres en utilisant la récursivité.\n",
        "\n",
        "    Args:\n",
        "        liste: La liste de nombres.\n",
        "\n",
        "    Returns:\n",
        "        La somme des nombres dans la liste.\n",
        "    \"\"\"\n",
        "    if not liste:\n",
        "        return 0\n",
        "    else:\n",
        "        return liste[0] + somme_recursive(liste[1:])\n",
        "\n",
        "nombres_str = input(\"Entrez une série de nombres séparés par des espaces : \")\n",
        "nombres = [int(x) for x in nombres_str.split()]\n",
        "\n",
        "resultat = somme_recursive(nombres)\n",
        "print(f\"La somme des nombres dans la liste est : {resultat}\")"
      ],
      "metadata": {
        "colab": {
          "base_uri": "https://localhost:8080/"
        },
        "id": "QgusBM9bNG4a",
        "outputId": "fcf2c584-9bef-47f3-ac63-a4ef79996792"
      },
      "execution_count": 6,
      "outputs": [
        {
          "output_type": "stream",
          "name": "stdout",
          "text": [
            "Entrez une série de nombres séparés par des espaces : 1 4 5 10\n",
            "La somme des nombres dans la liste est : 20\n"
          ]
        }
      ]
    },
    {
      "cell_type": "markdown",
      "source": [
        "Exercice 3.4 : Fonction de calcul de la puissance d'un nombre par récursion"
      ],
      "metadata": {
        "id": "xOKHOQeiNhxn"
      }
    },
    {
      "cell_type": "code",
      "source": [
        "def puissance_recursive(a, b):\n",
        "    \"\"\"Calcule a à la puissance b en utilisant la récursivité.\n",
        "\n",
        "    Args:\n",
        "        a: La base.\n",
        "        b: L'exposant.\n",
        "\n",
        "    Returns:\n",
        "        La valeur de a à la puissance b.\n",
        "    \"\"\"\n",
        "    if b == 0:\n",
        "        return 1\n",
        "    elif b == 1:\n",
        "        return a\n",
        "    else:\n",
        "        return a * puissance_recursive(a, b - 1)\n",
        "\n",
        "base = float(input(\"Entrez la base (a) : \"))\n",
        "exposant = int(input(\"Entrez l'exposant (b) : \"))\n",
        "\n",
        "resultat = puissance_recursive(base, exposant)\n",
        "print(f\"{base} à la puissance {exposant} est égal à : {resultat}\")"
      ],
      "metadata": {
        "colab": {
          "base_uri": "https://localhost:8080/"
        },
        "id": "0eKrgZdRN5y9",
        "outputId": "b00c9d5d-9ab7-4e58-f83d-119e695e42c9"
      },
      "execution_count": 7,
      "outputs": [
        {
          "output_type": "stream",
          "name": "stdout",
          "text": [
            "Entrez la base (a) : 4\n",
            "Entrez l'exposant (b) : 2\n",
            "4.0 à la puissance 2 est égal à : 16.0\n"
          ]
        }
      ]
    },
    {
      "cell_type": "markdown",
      "source": [
        "Exercice 3.5 : Fonction récursive de calcul de la factorielle"
      ],
      "metadata": {
        "id": "CyiS0JwzOMMx"
      }
    },
    {
      "cell_type": "code",
      "source": [
        "def factorielle_recursive(N):\n",
        "    \"\"\"Calcule la factorielle d'un nombre entier N en utilisant la récursivité.\n",
        "\n",
        "    Args:\n",
        "        N: Le nombre entier.\n",
        "\n",
        "    Returns:\n",
        "        La factorielle de N.\n",
        "    \"\"\"\n",
        "    if N == 0:\n",
        "        return 1\n",
        "    else:\n",
        "        return N * factorielle_recursive(N - 1)\n",
        "nombre = int(input(\"Entrez un nombre entier : \"))\n",
        "\n",
        "resultat = factorielle_recursive(nombre)\n",
        "print(f\"La factorielle de {nombre} est : {resultat}\")"
      ],
      "metadata": {
        "colab": {
          "base_uri": "https://localhost:8080/"
        },
        "id": "HWaA1NbtOe3-",
        "outputId": "86fbe537-d6cf-4365-a078-f26da935151e"
      },
      "execution_count": 9,
      "outputs": [
        {
          "output_type": "stream",
          "name": "stdout",
          "text": [
            "Entrez un nombre entier : 4\n",
            "La factorielle de 4 est : 24\n"
          ]
        }
      ]
    },
    {
      "cell_type": "markdown",
      "source": [
        "Exercice 3.6 : Fonction avec des lambdas pour l'addition et la multiplication"
      ],
      "metadata": {
        "id": "bYEzWQe2PFQU"
      }
    },
    {
      "cell_type": "code",
      "source": [
        "def calcul(x):\n",
        "    \"\"\"Crée et retourne un dictionnaire avec des fonctions lambda pour l'addition et la multiplication.\n",
        "\n",
        "    Args:\n",
        "        x: Le nombre de base pour les opérations.\n",
        "\n",
        "    Returns:\n",
        "        Un dictionnaire contenant deux fonctions lambda : 'addition' et 'multiplication'.\n",
        "    \"\"\"\n",
        "    return {\n",
        "        'addition': lambda y: x + y,\n",
        "        'multiplication': lambda z: x * z\n",
        "    }\n",
        "\n",
        "x = float(input(\"Entrez la valeur de x : \"))\n",
        "y = float(input(\"Entrez la valeur de y : \"))\n",
        "z = float(input(\"Entrez la valeur de z : \"))\n",
        "\n",
        "operations = calcul(x)\n",
        "resultat_addition = operations['addition'](y)\n",
        "resultat_multiplication = operations['multiplication'](z)\n",
        "\n",
        "print(f\"Résultat de l'addition : {resultat_addition}\")\n",
        "print(f\"Résultat de la multiplication : {resultat_multiplication}\")"
      ],
      "metadata": {
        "colab": {
          "base_uri": "https://localhost:8080/"
        },
        "id": "grrYY1oLQGnl",
        "outputId": "ef01e899-02bf-47d1-ba74-2b81bad395a8"
      },
      "execution_count": 12,
      "outputs": [
        {
          "output_type": "stream",
          "name": "stdout",
          "text": [
            "Entrez la valeur de x : 2\n",
            "Entrez la valeur de y : 3\n",
            "Entrez la valeur de z : 4\n",
            "Résultat de l'addition : 5.0\n",
            "Résultat de la multiplication : 8.0\n"
          ]
        }
      ]
    },
    {
      "cell_type": "markdown",
      "source": [
        "Exercice 3.7 : Utilisation des fonctions map et lambda pour additionner trois listes\n",
        "de nombres"
      ],
      "metadata": {
        "id": "h3wsogpXQkb7"
      }
    },
    {
      "cell_type": "code",
      "source": [
        "def additionner_listes(liste1, liste2, liste3):\n",
        "    \"\"\"Additionne les éléments correspondants de trois listes.\n",
        "\n",
        "    Args:\n",
        "        liste1: La première liste de nombres.\n",
        "        liste2: La deuxième liste de nombres.\n",
        "        liste3: La troisième liste de nombres.\n",
        "\n",
        "    Returns:\n",
        "        Une nouvelle liste contenant les sommes des éléments correspondants.\n",
        "    \"\"\"\n",
        "    return list(map(lambda x, y, z: x + y + z, liste1, liste2, liste3))\n",
        "\n",
        "def saisir_liste(numero_liste):\n",
        "    \"\"\"Demande à l’utilisateur de saisir une liste de nombres.\"\"\"\n",
        "    nombres_str = input(f\"Entrez les nombres de la liste {numero_liste} séparés par des espaces : \")\n",
        "    return [int(x) for x in nombres_str.split()]\n",
        "\n",
        "liste1 = saisir_liste(1)\n",
        "liste2 = saisir_liste(2)\n",
        "liste3 = saisir_liste(3)\n",
        "\n",
        "resultat = additionner_listes(liste1, liste2, liste3)\n",
        "print(f\"La liste des sommes est : {resultat}\")"
      ],
      "metadata": {
        "colab": {
          "base_uri": "https://localhost:8080/"
        },
        "id": "fEaXA_IPRKoq",
        "outputId": "3d808d8b-9aea-4494-d209-d9bed80243d6"
      },
      "execution_count": 14,
      "outputs": [
        {
          "output_type": "stream",
          "name": "stdout",
          "text": [
            "Entrez les nombres de la liste 1 séparés par des espaces : 1 2 3 4 5 6\n",
            "Entrez les nombres de la liste 2 séparés par des espaces : 2 3 4 5 6 7\n",
            "Entrez les nombres de la liste 3 séparés par des espaces : 3  4 5 6 7  8\n",
            "La liste des sommes est : [6, 9, 12, 15, 18, 21]\n"
          ]
        }
      ]
    },
    {
      "cell_type": "markdown",
      "source": [
        "Exercice 3.8 : Utilisation des fonctions filter et lambda pour extraire les noms\n",
        "commençant par une voyelle"
      ],
      "metadata": {
        "id": "YsiLT3hoSJqj"
      }
    },
    {
      "cell_type": "code",
      "source": [
        "def extraire_noms_voyelles(noms):\n",
        "    \"\"\"Extrait les noms commençant par une voyelle.\n",
        "\n",
        "    Args:\n",
        "        noms: Une liste de noms.\n",
        "\n",
        "    Returns:\n",
        "        Une nouvelle liste contenant uniquement les noms commençant par une voyelle.\n",
        "    \"\"\"\n",
        "    voyelles = \"AEIOUaeiou\"\n",
        "    return list(filter(lambda nom: nom[0] in voyelles, noms))\n",
        "\n",
        "# Saisie de la liste de noms par l'utilisateur\n",
        "noms_str = input(\"Entrez une liste de noms séparés par des espaces : \")\n",
        "noms = noms_str.split()\n",
        "\n",
        "resultat = extraire_noms_voyelles(noms)\n",
        "print(f\"Les noms commençant par une voyelle sont : {resultat}\")"
      ],
      "metadata": {
        "colab": {
          "base_uri": "https://localhost:8080/"
        },
        "id": "zKwQ2dprShW6",
        "outputId": "07ef3b2c-1cb0-476c-85a3-32584ac9e264"
      },
      "execution_count": 16,
      "outputs": [
        {
          "output_type": "stream",
          "name": "stdout",
          "text": [
            "Entrez une liste de noms séparés par des espaces : oudia thamazighth habiba\n",
            "Les noms commençant par une voyelle sont : ['oudia']\n"
          ]
        }
      ]
    },
    {
      "cell_type": "markdown",
      "source": [
        "Exercice 3.9 : Utilisation de la fonction reduce pour appliquer une fonction lambda\n",
        "de manière récursive pour le calcul de la somme d’une liste"
      ],
      "metadata": {
        "id": "NJ1EZUjKSlbE"
      }
    },
    {
      "cell_type": "code",
      "source": [
        "from functools import reduce\n",
        "\n",
        "def somme_reduce(nombres):\n",
        "    \"\"\"Calcule la somme d'une liste de nombres en utilisant reduce et lambda.\n",
        "\n",
        "    Args:\n",
        "        nombres: La liste de nombres.\n",
        "\n",
        "    Returns:\n",
        "        La somme des nombres dans la liste.\n",
        "    \"\"\"\n",
        "    return reduce(lambda x, y: x + y, nombres, 0)  # 0 est la valeur initiale\n",
        "\n",
        "# Saisie de la liste par l’utilisateur\n",
        "nombres_str = input(\"Entrez une série de nombres séparés par des espaces : \")\n",
        "nombres = [int(x) for x in nombres_str.split()]  # Convertir la saisie en liste de nombres\n",
        "\n",
        "resultat = somme_reduce(nombres)\n",
        "print(f\"La somme des nombres dans la liste est : {resultat}\")"
      ],
      "metadata": {
        "colab": {
          "base_uri": "https://localhost:8080/"
        },
        "id": "6PlmawIbWV1V",
        "outputId": "d5983698-2235-465e-9ae1-8571a6158838"
      },
      "execution_count": 20,
      "outputs": [
        {
          "output_type": "stream",
          "name": "stdout",
          "text": [
            "Entrez une série de nombres séparés par des espaces : 1 2 3 4\n",
            "La somme des nombres dans la liste est : 10\n"
          ]
        }
      ]
    },
    {
      "cell_type": "markdown",
      "source": [
        "TP2"
      ],
      "metadata": {
        "id": "_RVVg082Ypu8"
      }
    },
    {
      "cell_type": "markdown",
      "source": [
        "Exercice 1: Programme de calcul"
      ],
      "metadata": {
        "id": "bKQ1eTX-Yv24"
      }
    },
    {
      "cell_type": "code",
      "source": [
        "def somDiv(n):\n",
        "  \"\"\"Retourne la somme des diviseurs propres de n.\"\"\"\n",
        "  somme = 0\n",
        "  for i in range(1, n):\n",
        "    if n % i == 0:\n",
        "      somme += i\n",
        "  return somme\n",
        "\n",
        "def estParfait(n):\n",
        "  \"\"\"Vérifie si n est un nombre parfait.\"\"\"\n",
        "  return somDiv(n) == n\n",
        "\n",
        "def estPremier(n):\n",
        "  \"\"\"Vérifie si n est un nombre premier.\"\"\"\n",
        "  if n <= 1:\n",
        "    return False\n",
        "  for i in range(2, int(n**0.5) + 1):\n",
        "    if n % i == 0:\n",
        "      return False\n",
        "  return True\n",
        "\n",
        "def estChanceux(a):\n",
        "  \"\"\"Vérifie si a est un nombre chanceux.\"\"\"\n",
        "  for n in range(1, a):\n",
        "    if not estPremier(a + n + n**2):\n",
        "      return False\n",
        "  return True\n",
        "\n",
        "nombre_somDiv = int(input(\"Entrez un nombre pour tester somDiv : \"))\n",
        "print(f\"somDiv({nombre_somDiv}) = {somDiv(nombre_somDiv)}\")\n",
        "\n",
        "nombre_estParfait = int(input(\"Entrez un nombre pour tester estParfait : \"))\n",
        "print(f\"estParfait({nombre_estParfait}) = {estParfait(nombre_estParfait)}\")\n",
        "\n",
        "nombre_estPremier = int(input(\"Entrez un nombre pour tester estPremier : \"))\n",
        "print(f\"estPremier({nombre_estPremier}) = {estPremier(nombre_estPremier)}\")\n",
        "\n",
        "nombre_estChanceux = int(input(\"Entrez un nombre pour tester estChanceux : \"))\n",
        "print(f\"estChanceux({nombre_estChanceux}) = {estChanceux(nombre_estChanceux)}\")"
      ],
      "metadata": {
        "id": "IzerP1W0ckMC",
        "outputId": "f983320e-61d0-4f70-e3dc-b171bda65001",
        "colab": {
          "base_uri": "https://localhost:8080/"
        }
      },
      "execution_count": 22,
      "outputs": [
        {
          "output_type": "stream",
          "name": "stdout",
          "text": [
            "Entrez un nombre pour tester somDiv : 22\n",
            "somDiv(22) = 14\n",
            "Entrez un nombre pour tester estParfait : 12\n",
            "estParfait(12) = False\n",
            "Entrez un nombre pour tester estPremier : 5\n",
            "estPremier(5) = True\n",
            "Entrez un nombre pour tester estChanceux : 4\n",
            "estChanceux(4) = False\n"
          ]
        }
      ]
    },
    {
      "cell_type": "code",
      "source": [
        "def somDiv(n):\n",
        "  \"\"\"Retourne la somme des diviseurs propres de n.\"\"\"\n",
        "  somme = 0\n",
        "  for i in range(1, n):\n",
        "    if n % i == 0:\n",
        "      somme += i\n",
        "  return somme\n",
        "\n",
        "def estParfait(n):\n",
        "  \"\"\"Vérifie si n est un nombre parfait.\"\"\"\n",
        "  return somDiv(n) == n\n",
        "\n",
        "def estPremier(n):\n",
        "  \"\"\"Vérifie si n est un nombre premier.\"\"\"\n",
        "  if n <= 1:\n",
        "    return False\n",
        "  for i in range(2, int(n**0.5) + 1):\n",
        "    if n % i == 0:\n",
        "      return False\n",
        "  return True\n",
        "\n",
        "def estChanceux(a):\n",
        "  \"\"\"Vérifie si a est un nombre chanceux.\"\"\"\n",
        "  for n in range(1, a):\n",
        "    if not estPremier(a + n + n**2):\n",
        "      return False\n",
        "  return True\n",
        "\n",
        "parfaits = []\n",
        "chanceux = []\n",
        "\n",
        "borne_superieure = int(input(\"Entrez la borne supérieure de l'intervalle : \"))\n",
        "\n",
        "for nombre in range(2, borne_superieure + 1):  # Boucle de parcours de l'intervalle [2, borne_superieure]\n",
        "  if estParfait(nombre):\n",
        "    parfaits.append(nombre)\n",
        "  if estChanceux(nombre):\n",
        "    chanceux.append(nombre)\n",
        "\n",
        "# Affichage des listes\n",
        "print(\"Nombres parfaits :\", parfaits)\n",
        "print(\"Nombres chanceux :\", chanceux)"
      ],
      "metadata": {
        "id": "gOhmWRn4fLNN",
        "outputId": "c24cbaba-be3d-4a67-9a4d-469d37124746",
        "colab": {
          "base_uri": "https://localhost:8080/"
        }
      },
      "execution_count": 23,
      "outputs": [
        {
          "output_type": "stream",
          "name": "stdout",
          "text": [
            "Entrez la borne supérieure de l'intervalle : 20\n",
            "Nombres parfaits : [6]\n",
            "Nombres chanceux : []\n"
          ]
        }
      ]
    },
    {
      "cell_type": "markdown",
      "source": [
        "Exercice 2 : Calcul avec une liste de nombres aléatoires"
      ],
      "metadata": {
        "id": "kN4YHvBJf1Ru"
      }
    },
    {
      "cell_type": "code",
      "source": [
        "import random\n",
        "\n",
        "def listAleaFloat(n, borne_inferieure, borne_superieure):\n",
        "    \"\"\"Retourne une liste de n flottants aléatoires entre borne_inferieure et borne_superieure.\"\"\"\n",
        "    return [random.uniform(borne_inferieure, borne_superieure) for _ in range(n)]\n",
        "\n",
        "def amplitude(liste):\n",
        "  \"\"\"Retourne l'amplitude d'une liste (écart entre sa plus grande et sa plus petite valeur).\"\"\"\n",
        "  return max(liste) - min(liste)\n",
        "\n",
        "def moyenne(liste):\n",
        "  \"\"\"Retourne la moyenne d'une liste.\"\"\"\n",
        "  return sum(liste) / len(liste)\n",
        "\n",
        "def verifier_elements_differents(liste):\n",
        "    \"\"\"Vérifie si tous les éléments d'une liste sont différents.\"\"\"\n",
        "    return len(liste) == len(set(liste))\n",
        "\n",
        "# Programme principal\n",
        "while True:\n",
        "    n = int(input(\"Entrez un entier n dans l'intervalle [2..100] : \"))\n",
        "    if 2 <= n <= 100:\n",
        "        break\n",
        "    else:\n",
        "        print(\"Erreur : n doit être dans l'intervalle [2..100].\")\n",
        "\n",
        "borne_inferieure = float(input(\"Entrez la borne inférieure pour les nombres aléatoires : \"))\n",
        "borne_superieure = float(input(\"Entrez la borne supérieure pour les nombres aléatoires : \"))\n",
        "\n",
        "liste_nombres = listAleaFloat(n, borne_inferieure, borne_superieure)\n",
        "\n",
        "print(\"Amplitude du tableau :\", amplitude(liste_nombres))\n",
        "print(\"Moyenne du tableau :\", moyenne(liste_nombres))\n",
        "\n",
        "# Vérification des éléments différents pour un tableau d'entiers\n",
        "nombre_entiers = int(input(\"Entrez le nombre d'entiers aléatoires à générer pour la vérification : \"))\n",
        "liste_entiers = [random.randint(0, 500) for _ in range(nombre_entiers)]\n",
        "if verifier_elements_differents(liste_entiers):\n",
        "    print(\"Tous les éléments du tableau d'entiers sont différents.\")\n",
        "else:\n",
        "    print(\"Le tableau d'entiers contient des éléments identiques.\")\n"
      ],
      "metadata": {
        "id": "cFk9eg-2gIdq",
        "outputId": "3d6ba544-78b5-41ab-be9f-56db3924f140",
        "colab": {
          "base_uri": "https://localhost:8080/"
        }
      },
      "execution_count": 33,
      "outputs": [
        {
          "output_type": "stream",
          "name": "stdout",
          "text": [
            "Entrez un entier n dans l'intervalle [2..100] : 50\n",
            "Entrez la borne inférieure pour les nombres aléatoires : 1\n",
            "Entrez la borne supérieure pour les nombres aléatoires : 50\n",
            "Amplitude du tableau : 45.65323902092728\n",
            "Moyenne du tableau : 23.76464182766906\n",
            "Entrez le nombre d'entiers aléatoires à générer pour la vérification : 5\n",
            "Tous les éléments du tableau d'entiers sont différents.\n"
          ]
        }
      ]
    }
  ],
  "metadata": {
    "colab": {
      "name": "Table of contents for collab.research.google.com.ipynb",
      "provenance": []
    },
    "kernelspec": {
      "display_name": "Python 3 (ipykernel)",
      "language": "python",
      "name": "python3"
    },
    "language_info": {
      "codemirror_mode": {
        "name": "ipython",
        "version": 3
      },
      "file_extension": ".py",
      "mimetype": "text/x-python",
      "name": "python",
      "nbconvert_exporter": "python",
      "pygments_lexer": "ipython3",
      "version": "3.10.6"
    }
  },
  "nbformat": 4,
  "nbformat_minor": 0
}